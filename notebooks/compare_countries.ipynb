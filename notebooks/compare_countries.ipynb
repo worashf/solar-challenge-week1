{
 "cells": [
  {
   "metadata": {},
   "cell_type": "markdown",
   "source": "### 1. load each  country clean data",
   "id": "8e83dba938fbae74"
  },
  {
   "metadata": {
    "ExecuteTime": {
     "end_time": "2025-05-21T10:46:07.286110Z",
     "start_time": "2025-05-21T10:46:01.575897Z"
    }
   },
   "cell_type": "code",
   "source": [
    "import pandas as pd\n",
    "import matplotlib.pyplot as plt\n",
    "import seaborn as sns\n",
    "\n",
    "benin_df = pd.read_csv('../data/clean/benin_clean.csv')\n",
    "togo_df = pd.read_csv('../data/clean/togo_clean.csv')\n",
    "\n",
    "sierraleone_df = pd.read_csv('../data/clean/sierraleone_clean.csv')\n",
    "# benin_df[\"Country\"] = \"Benin\"\n",
    "# togo_df[\"Country\"] = \"Togo\"\n",
    "# sierraleone_df[\"Country\"] = \"Sierra Leone\"\n",
    "\n",
    "metrics = [\"GHI\", \"DNI\", \"DHI\"]\n",
    "# count mixed data\n",
    "combined_df = pd.concat([\n",
    "    benin_df[metrics].assign(Country=\"Benin\"),\n",
    "    sierraleone_df[metrics].assign(Country=\"Sierra Leone\"),\n",
    "    togo_df[metrics].assign(Country=\"Togo\")\n",
    "])\n",
    "combined_df\n",
    "\n"
   ],
   "id": "86955993e786724e",
   "outputs": [
    {
     "data": {
      "text/plain": [
       "        GHI  DNI  DHI Country\n",
       "0      -0.7 -0.1 -0.8   Benin\n",
       "1      -0.7 -0.1 -0.8   Benin\n",
       "2      -0.7 -0.1 -0.8   Benin\n",
       "3      -0.7  0.0 -0.8   Benin\n",
       "4      -0.7 -0.1 -0.8   Benin\n",
       "...     ...  ...  ...     ...\n",
       "525595 -0.8  0.0  0.0    Togo\n",
       "525596 -0.9  0.0  0.0    Togo\n",
       "525597 -1.0  0.0  0.0    Togo\n",
       "525598 -1.1  0.0  0.0    Togo\n",
       "525599 -1.2  0.0  0.0    Togo\n",
       "\n",
       "[1576800 rows x 4 columns]"
      ],
      "text/html": [
       "<div>\n",
       "<style scoped>\n",
       "    .dataframe tbody tr th:only-of-type {\n",
       "        vertical-align: middle;\n",
       "    }\n",
       "\n",
       "    .dataframe tbody tr th {\n",
       "        vertical-align: top;\n",
       "    }\n",
       "\n",
       "    .dataframe thead th {\n",
       "        text-align: right;\n",
       "    }\n",
       "</style>\n",
       "<table border=\"1\" class=\"dataframe\">\n",
       "  <thead>\n",
       "    <tr style=\"text-align: right;\">\n",
       "      <th></th>\n",
       "      <th>GHI</th>\n",
       "      <th>DNI</th>\n",
       "      <th>DHI</th>\n",
       "      <th>Country</th>\n",
       "    </tr>\n",
       "  </thead>\n",
       "  <tbody>\n",
       "    <tr>\n",
       "      <th>0</th>\n",
       "      <td>-0.7</td>\n",
       "      <td>-0.1</td>\n",
       "      <td>-0.8</td>\n",
       "      <td>Benin</td>\n",
       "    </tr>\n",
       "    <tr>\n",
       "      <th>1</th>\n",
       "      <td>-0.7</td>\n",
       "      <td>-0.1</td>\n",
       "      <td>-0.8</td>\n",
       "      <td>Benin</td>\n",
       "    </tr>\n",
       "    <tr>\n",
       "      <th>2</th>\n",
       "      <td>-0.7</td>\n",
       "      <td>-0.1</td>\n",
       "      <td>-0.8</td>\n",
       "      <td>Benin</td>\n",
       "    </tr>\n",
       "    <tr>\n",
       "      <th>3</th>\n",
       "      <td>-0.7</td>\n",
       "      <td>0.0</td>\n",
       "      <td>-0.8</td>\n",
       "      <td>Benin</td>\n",
       "    </tr>\n",
       "    <tr>\n",
       "      <th>4</th>\n",
       "      <td>-0.7</td>\n",
       "      <td>-0.1</td>\n",
       "      <td>-0.8</td>\n",
       "      <td>Benin</td>\n",
       "    </tr>\n",
       "    <tr>\n",
       "      <th>...</th>\n",
       "      <td>...</td>\n",
       "      <td>...</td>\n",
       "      <td>...</td>\n",
       "      <td>...</td>\n",
       "    </tr>\n",
       "    <tr>\n",
       "      <th>525595</th>\n",
       "      <td>-0.8</td>\n",
       "      <td>0.0</td>\n",
       "      <td>0.0</td>\n",
       "      <td>Togo</td>\n",
       "    </tr>\n",
       "    <tr>\n",
       "      <th>525596</th>\n",
       "      <td>-0.9</td>\n",
       "      <td>0.0</td>\n",
       "      <td>0.0</td>\n",
       "      <td>Togo</td>\n",
       "    </tr>\n",
       "    <tr>\n",
       "      <th>525597</th>\n",
       "      <td>-1.0</td>\n",
       "      <td>0.0</td>\n",
       "      <td>0.0</td>\n",
       "      <td>Togo</td>\n",
       "    </tr>\n",
       "    <tr>\n",
       "      <th>525598</th>\n",
       "      <td>-1.1</td>\n",
       "      <td>0.0</td>\n",
       "      <td>0.0</td>\n",
       "      <td>Togo</td>\n",
       "    </tr>\n",
       "    <tr>\n",
       "      <th>525599</th>\n",
       "      <td>-1.2</td>\n",
       "      <td>0.0</td>\n",
       "      <td>0.0</td>\n",
       "      <td>Togo</td>\n",
       "    </tr>\n",
       "  </tbody>\n",
       "</table>\n",
       "<p>1576800 rows × 4 columns</p>\n",
       "</div>"
      ]
     },
     "execution_count": 6,
     "metadata": {},
     "output_type": "execute_result"
    }
   ],
   "execution_count": 6
  },
  {
   "metadata": {
    "ExecuteTime": {
     "end_time": "2025-05-20T19:13:01.190533Z",
     "start_time": "2025-05-20T19:13:01.162365Z"
    }
   },
   "cell_type": "code",
   "source": "togo_df.head(3)\n",
   "id": "3da4336d6a2eb7e6",
   "outputs": [
    {
     "data": {
      "text/plain": [
       "   GHI  DNI  DHI  ModA  ModB  Tamb    RH   WS  WSgust  WSstdev     WD  \\\n",
       "0 -1.3  0.0  0.0   0.0   0.0  24.8  94.5  0.9     1.1      0.4  227.6   \n",
       "1 -1.3  0.0  0.0   0.0   0.0  24.8  94.4  1.1     1.6      0.4  229.3   \n",
       "2 -1.3  0.0  0.0   0.0   0.0  24.8  94.4  1.2     1.4      0.3  228.5   \n",
       "\n",
       "   WDstdev   BP  Cleaning  Precipitation  TModA  TModB  Comments  \\\n",
       "0      1.1  977         0            0.0   24.7   24.4       NaN   \n",
       "1      0.7  977         0            0.0   24.7   24.4       NaN   \n",
       "2      2.9  977         0            0.0   24.7   24.4       NaN   \n",
       "\n",
       "   CleaningFlag country  \n",
       "0         False    Togo  \n",
       "1         False    Togo  \n",
       "2         False    Togo  "
      ],
      "text/html": [
       "<div>\n",
       "<style scoped>\n",
       "    .dataframe tbody tr th:only-of-type {\n",
       "        vertical-align: middle;\n",
       "    }\n",
       "\n",
       "    .dataframe tbody tr th {\n",
       "        vertical-align: top;\n",
       "    }\n",
       "\n",
       "    .dataframe thead th {\n",
       "        text-align: right;\n",
       "    }\n",
       "</style>\n",
       "<table border=\"1\" class=\"dataframe\">\n",
       "  <thead>\n",
       "    <tr style=\"text-align: right;\">\n",
       "      <th></th>\n",
       "      <th>GHI</th>\n",
       "      <th>DNI</th>\n",
       "      <th>DHI</th>\n",
       "      <th>ModA</th>\n",
       "      <th>ModB</th>\n",
       "      <th>Tamb</th>\n",
       "      <th>RH</th>\n",
       "      <th>WS</th>\n",
       "      <th>WSgust</th>\n",
       "      <th>WSstdev</th>\n",
       "      <th>WD</th>\n",
       "      <th>WDstdev</th>\n",
       "      <th>BP</th>\n",
       "      <th>Cleaning</th>\n",
       "      <th>Precipitation</th>\n",
       "      <th>TModA</th>\n",
       "      <th>TModB</th>\n",
       "      <th>Comments</th>\n",
       "      <th>CleaningFlag</th>\n",
       "      <th>country</th>\n",
       "    </tr>\n",
       "  </thead>\n",
       "  <tbody>\n",
       "    <tr>\n",
       "      <th>0</th>\n",
       "      <td>-1.3</td>\n",
       "      <td>0.0</td>\n",
       "      <td>0.0</td>\n",
       "      <td>0.0</td>\n",
       "      <td>0.0</td>\n",
       "      <td>24.8</td>\n",
       "      <td>94.5</td>\n",
       "      <td>0.9</td>\n",
       "      <td>1.1</td>\n",
       "      <td>0.4</td>\n",
       "      <td>227.6</td>\n",
       "      <td>1.1</td>\n",
       "      <td>977</td>\n",
       "      <td>0</td>\n",
       "      <td>0.0</td>\n",
       "      <td>24.7</td>\n",
       "      <td>24.4</td>\n",
       "      <td>NaN</td>\n",
       "      <td>False</td>\n",
       "      <td>Togo</td>\n",
       "    </tr>\n",
       "    <tr>\n",
       "      <th>1</th>\n",
       "      <td>-1.3</td>\n",
       "      <td>0.0</td>\n",
       "      <td>0.0</td>\n",
       "      <td>0.0</td>\n",
       "      <td>0.0</td>\n",
       "      <td>24.8</td>\n",
       "      <td>94.4</td>\n",
       "      <td>1.1</td>\n",
       "      <td>1.6</td>\n",
       "      <td>0.4</td>\n",
       "      <td>229.3</td>\n",
       "      <td>0.7</td>\n",
       "      <td>977</td>\n",
       "      <td>0</td>\n",
       "      <td>0.0</td>\n",
       "      <td>24.7</td>\n",
       "      <td>24.4</td>\n",
       "      <td>NaN</td>\n",
       "      <td>False</td>\n",
       "      <td>Togo</td>\n",
       "    </tr>\n",
       "    <tr>\n",
       "      <th>2</th>\n",
       "      <td>-1.3</td>\n",
       "      <td>0.0</td>\n",
       "      <td>0.0</td>\n",
       "      <td>0.0</td>\n",
       "      <td>0.0</td>\n",
       "      <td>24.8</td>\n",
       "      <td>94.4</td>\n",
       "      <td>1.2</td>\n",
       "      <td>1.4</td>\n",
       "      <td>0.3</td>\n",
       "      <td>228.5</td>\n",
       "      <td>2.9</td>\n",
       "      <td>977</td>\n",
       "      <td>0</td>\n",
       "      <td>0.0</td>\n",
       "      <td>24.7</td>\n",
       "      <td>24.4</td>\n",
       "      <td>NaN</td>\n",
       "      <td>False</td>\n",
       "      <td>Togo</td>\n",
       "    </tr>\n",
       "  </tbody>\n",
       "</table>\n",
       "</div>"
      ]
     },
     "execution_count": 52,
     "metadata": {},
     "output_type": "execute_result"
    }
   ],
   "execution_count": 52
  },
  {
   "metadata": {
    "ExecuteTime": {
     "end_time": "2025-05-20T19:13:01.590011Z",
     "start_time": "2025-05-20T19:13:01.535620Z"
    }
   },
   "cell_type": "code",
   "source": "sierraleone_df.head(3)",
   "id": "89961398784dfc73",
   "outputs": [
    {
     "data": {
      "text/plain": [
       "   GHI  DNI  DHI  ModA  ModB  Tamb    RH   WS  WSgust  WSstdev   WD  WDstdev  \\\n",
       "0 -0.7 -0.1 -0.8   0.0   0.0  21.9  99.1  0.0     0.0      0.0  0.0      0.0   \n",
       "1 -0.7 -0.1 -0.8   0.0   0.0  21.9  99.2  0.0     0.0      0.0  0.0      0.0   \n",
       "2 -0.7 -0.1 -0.8   0.0   0.0  21.9  99.2  0.0     0.0      0.0  0.0      0.0   \n",
       "\n",
       "     BP  Cleaning  Precipitation  TModA  TModB  Comments  CleaningFlag  \\\n",
       "0  1002         0            0.0   22.3   22.6       NaN         False   \n",
       "1  1002         0            0.0   22.3   22.6       NaN         False   \n",
       "2  1002         0            0.0   22.3   22.6       NaN         False   \n",
       "\n",
       "       country  \n",
       "0  Sierraleone  \n",
       "1  Sierraleone  \n",
       "2  Sierraleone  "
      ],
      "text/html": [
       "<div>\n",
       "<style scoped>\n",
       "    .dataframe tbody tr th:only-of-type {\n",
       "        vertical-align: middle;\n",
       "    }\n",
       "\n",
       "    .dataframe tbody tr th {\n",
       "        vertical-align: top;\n",
       "    }\n",
       "\n",
       "    .dataframe thead th {\n",
       "        text-align: right;\n",
       "    }\n",
       "</style>\n",
       "<table border=\"1\" class=\"dataframe\">\n",
       "  <thead>\n",
       "    <tr style=\"text-align: right;\">\n",
       "      <th></th>\n",
       "      <th>GHI</th>\n",
       "      <th>DNI</th>\n",
       "      <th>DHI</th>\n",
       "      <th>ModA</th>\n",
       "      <th>ModB</th>\n",
       "      <th>Tamb</th>\n",
       "      <th>RH</th>\n",
       "      <th>WS</th>\n",
       "      <th>WSgust</th>\n",
       "      <th>WSstdev</th>\n",
       "      <th>WD</th>\n",
       "      <th>WDstdev</th>\n",
       "      <th>BP</th>\n",
       "      <th>Cleaning</th>\n",
       "      <th>Precipitation</th>\n",
       "      <th>TModA</th>\n",
       "      <th>TModB</th>\n",
       "      <th>Comments</th>\n",
       "      <th>CleaningFlag</th>\n",
       "      <th>country</th>\n",
       "    </tr>\n",
       "  </thead>\n",
       "  <tbody>\n",
       "    <tr>\n",
       "      <th>0</th>\n",
       "      <td>-0.7</td>\n",
       "      <td>-0.1</td>\n",
       "      <td>-0.8</td>\n",
       "      <td>0.0</td>\n",
       "      <td>0.0</td>\n",
       "      <td>21.9</td>\n",
       "      <td>99.1</td>\n",
       "      <td>0.0</td>\n",
       "      <td>0.0</td>\n",
       "      <td>0.0</td>\n",
       "      <td>0.0</td>\n",
       "      <td>0.0</td>\n",
       "      <td>1002</td>\n",
       "      <td>0</td>\n",
       "      <td>0.0</td>\n",
       "      <td>22.3</td>\n",
       "      <td>22.6</td>\n",
       "      <td>NaN</td>\n",
       "      <td>False</td>\n",
       "      <td>Sierraleone</td>\n",
       "    </tr>\n",
       "    <tr>\n",
       "      <th>1</th>\n",
       "      <td>-0.7</td>\n",
       "      <td>-0.1</td>\n",
       "      <td>-0.8</td>\n",
       "      <td>0.0</td>\n",
       "      <td>0.0</td>\n",
       "      <td>21.9</td>\n",
       "      <td>99.2</td>\n",
       "      <td>0.0</td>\n",
       "      <td>0.0</td>\n",
       "      <td>0.0</td>\n",
       "      <td>0.0</td>\n",
       "      <td>0.0</td>\n",
       "      <td>1002</td>\n",
       "      <td>0</td>\n",
       "      <td>0.0</td>\n",
       "      <td>22.3</td>\n",
       "      <td>22.6</td>\n",
       "      <td>NaN</td>\n",
       "      <td>False</td>\n",
       "      <td>Sierraleone</td>\n",
       "    </tr>\n",
       "    <tr>\n",
       "      <th>2</th>\n",
       "      <td>-0.7</td>\n",
       "      <td>-0.1</td>\n",
       "      <td>-0.8</td>\n",
       "      <td>0.0</td>\n",
       "      <td>0.0</td>\n",
       "      <td>21.9</td>\n",
       "      <td>99.2</td>\n",
       "      <td>0.0</td>\n",
       "      <td>0.0</td>\n",
       "      <td>0.0</td>\n",
       "      <td>0.0</td>\n",
       "      <td>0.0</td>\n",
       "      <td>1002</td>\n",
       "      <td>0</td>\n",
       "      <td>0.0</td>\n",
       "      <td>22.3</td>\n",
       "      <td>22.6</td>\n",
       "      <td>NaN</td>\n",
       "      <td>False</td>\n",
       "      <td>Sierraleone</td>\n",
       "    </tr>\n",
       "  </tbody>\n",
       "</table>\n",
       "</div>"
      ]
     },
     "execution_count": 53,
     "metadata": {},
     "output_type": "execute_result"
    }
   ],
   "execution_count": 53
  },
  {
   "metadata": {},
   "cell_type": "markdown",
   "source": "### 2. compare by country and plot each coutry side by side",
   "id": "4a319994dd9b3f2b"
  },
  {
   "metadata": {
    "ExecuteTime": {
     "end_time": "2025-05-21T10:47:02.730347Z",
     "start_time": "2025-05-21T10:46:46.801887Z"
    }
   },
   "cell_type": "code",
   "source": [
    "\n",
    "\n",
    "\n",
    "\n",
    "\n",
    "for metric in metrics:\n",
    "    # Combine data with a country column\n",
    "\n",
    "    plt.figure(figsize=(4, 2))\n",
    "    sns.boxplot(\n",
    "        data=combined_df,\n",
    "        x=\"Country\",\n",
    "        y=metric,\n",
    "        hue=\"Country\",\n",
    "        palette=[\"#8d18db\", \"#d60bb4\", \"#2ca02c\"],\n",
    "        dodge=False,\n",
    "        legend=False\n",
    "    )\n",
    "\n",
    "    plt.title(f\"{metric} Comparison Across Countries\")\n",
    "    plt.ylabel(f\"{metric}\")\n",
    "    plt.xlabel(\"Country\")\n",
    "    plt.grid(True)\n",
    "    plt.tight_layout()\n",
    "    plt.show()\n"
   ],
   "id": "3ee056b32d903458",
   "outputs": [
    {
     "data": {
      "text/plain": [
       "<Figure size 400x200 with 1 Axes>"
      ],
      "image/png": "[encoded data removed]"
     },
     "metadata": {},
     "output_type": "display_data"
    },
    {
     "data": {
      "text/plain": [
       "<Figure size 400x200 with 1 Axes>"
      ],
      "image/png": "[encoded data removed]"
     },
     "metadata": {},
     "output_type": "display_data"
    },
    {
     "data": {
      "text/plain": [
       "<Figure size 400x200 with 1 Axes>"
      ],
      "image/png": "[encoded data removed]"
     },
     "metadata": {},
     "output_type": "display_data"
    }
   ],
   "execution_count": 8
  },
  {
   "metadata": {
    "ExecuteTime": {
     "end_time": "2025-05-21T10:47:08.696648Z",
     "start_time": "2025-05-21T10:47:08.650220Z"
    }
   },
   "cell_type": "code",
   "source": [
    "GHI_summary  = pd.DataFrame({\n",
    "    \"country\": [\"Benin\", \"Togo\", \"Sierraleone\"],\n",
    "    \"GHI_mean\":[benin_df[\"GHI\"].mean(), togo_df[\"GHI\"].mean(), sierraleone_df[\"GHI\"].mean()],\n",
    "    \"GHI_median\":[benin_df[\"GHI\"].median(), togo_df[\"GHI\"].median(), sierraleone_df[\"GHI\"].median()],\n",
    "    \"GHI_std\":[benin_df[\"GHI\"].std(),togo_df[\"GHI\"].std(), sierraleone_df[\"GHI\"].std()],\n",
    "}).round(2)\n",
    "\n",
    "print(GHI_summary)\n",
    "GHI_summary.head\n"
   ],
   "id": "1c498bdfee9dc4ad",
   "outputs": [
    {
     "name": "stdout",
     "output_type": "stream",
     "text": [
      "       country  GHI_mean  GHI_median  GHI_std\n",
      "0        Benin    201.96         0.3   298.50\n",
      "1         Togo    230.56         2.1   322.53\n",
      "2  Sierraleone    201.96         0.3   298.50\n"
     ]
    },
    {
     "data": {
      "text/plain": [
       "<bound method NDFrame.head of        country  GHI_mean  GHI_median  GHI_std\n",
       "0        Benin    201.96         0.3   298.50\n",
       "1         Togo    230.56         2.1   322.53\n",
       "2  Sierraleone    201.96         0.3   298.50>"
      ]
     },
     "execution_count": 9,
     "metadata": {},
     "output_type": "execute_result"
    }
   ],
   "execution_count": 9
  },
  {
   "metadata": {
    "ExecuteTime": {
     "end_time": "2025-05-21T10:47:16.436083Z",
     "start_time": "2025-05-21T10:47:16.383725Z"
    }
   },
   "cell_type": "code",
   "source": [
    "DNI_summary  = pd.DataFrame({\n",
    "    \"country\": [\"Benin\", \"Togo\", \"Sierraleone\"],\n",
    "    \"DNI_mean\":[benin_df[\"DNI\"].mean(), togo_df[\"DNI\"].mean(), sierraleone_df[\"DNI\"].mean()],\n",
    "    \"DNI_median\":[benin_df[\"DNI\"].median(), togo_df[\"DNI\"].median(), sierraleone_df[\"DNI\"].median()],\n",
    "    \"DNI_std\":[benin_df[\"DNI\"].std(),togo_df[\"DNI\"].std(), sierraleone_df[\"DNI\"].std()],\n",
    "}).round(2)\n",
    "print(DNI_summary)\n",
    "DNI_summary"
   ],
   "id": "512fdf36afd701db",
   "outputs": [
    {
     "name": "stdout",
     "output_type": "stream",
     "text": [
      "       country  DNI_mean  DNI_median  DNI_std\n",
      "0        Benin    116.38        -0.1   218.65\n",
      "1         Togo    151.26         0.0   250.96\n",
      "2  Sierraleone    116.38        -0.1   218.65\n"
     ]
    },
    {
     "data": {
      "text/plain": [
       "       country  DNI_mean  DNI_median  DNI_std\n",
       "0        Benin    116.38        -0.1   218.65\n",
       "1         Togo    151.26         0.0   250.96\n",
       "2  Sierraleone    116.38        -0.1   218.65"
      ],
      "text/html": [
       "<div>\n",
       "<style scoped>\n",
       "    .dataframe tbody tr th:only-of-type {\n",
       "        vertical-align: middle;\n",
       "    }\n",
       "\n",
       "    .dataframe tbody tr th {\n",
       "        vertical-align: top;\n",
       "    }\n",
       "\n",
       "    .dataframe thead th {\n",
       "        text-align: right;\n",
       "    }\n",
       "</style>\n",
       "<table border=\"1\" class=\"dataframe\">\n",
       "  <thead>\n",
       "    <tr style=\"text-align: right;\">\n",
       "      <th></th>\n",
       "      <th>country</th>\n",
       "      <th>DNI_mean</th>\n",
       "      <th>DNI_median</th>\n",
       "      <th>DNI_std</th>\n",
       "    </tr>\n",
       "  </thead>\n",
       "  <tbody>\n",
       "    <tr>\n",
       "      <th>0</th>\n",
       "      <td>Benin</td>\n",
       "      <td>116.38</td>\n",
       "      <td>-0.1</td>\n",
       "      <td>218.65</td>\n",
       "    </tr>\n",
       "    <tr>\n",
       "      <th>1</th>\n",
       "      <td>Togo</td>\n",
       "      <td>151.26</td>\n",
       "      <td>0.0</td>\n",
       "      <td>250.96</td>\n",
       "    </tr>\n",
       "    <tr>\n",
       "      <th>2</th>\n",
       "      <td>Sierraleone</td>\n",
       "      <td>116.38</td>\n",
       "      <td>-0.1</td>\n",
       "      <td>218.65</td>\n",
       "    </tr>\n",
       "  </tbody>\n",
       "</table>\n",
       "</div>"
      ]
     },
     "execution_count": 10,
     "metadata": {},
     "output_type": "execute_result"
    }
   ],
   "execution_count": 10
  },
  {
   "metadata": {
    "ExecuteTime": {
     "end_time": "2025-05-21T10:47:21.101240Z",
     "start_time": "2025-05-21T10:47:21.046625Z"
    }
   },
   "cell_type": "code",
   "source": [
    "DHI_summary = pd.DataFrame({\n",
    "    \"Country\": [\"Benin\", \"Togo\", \"Sierra Leone\"],\n",
    "    \"DHI_mean\": [\n",
    "        benin_df[\"DHI\"].mean(),\n",
    "        togo_df[\"DHI\"].mean(),\n",
    "        sierraleone_df[\"DHI\"].mean()\n",
    "    ],\n",
    "    \"DHI_median\": [\n",
    "        benin_df[\"DHI\"].median(),\n",
    "        togo_df[\"DHI\"].median(),\n",
    "        sierraleone_df[\"DHI\"].median()\n",
    "    ],\n",
    "    \"DHI_std\": [\n",
    "        benin_df[\"DHI\"].std(),\n",
    "        togo_df[\"DHI\"].std(),\n",
    "        sierraleone_df[\"DHI\"].std()\n",
    "    ],\n",
    "}).round(2)\n",
    "\n",
    "print(DHI_summary)\n",
    "# Display the summary\n",
    "DHI_summary.head()\n"
   ],
   "id": "dcf60d52a6862287",
   "outputs": [
    {
     "name": "stdout",
     "output_type": "stream",
     "text": [
      "        Country  DHI_mean  DHI_median  DHI_std\n",
      "0         Benin    113.72        -0.1   158.95\n",
      "1          Togo    116.44         2.5   156.52\n",
      "2  Sierra Leone    113.72        -0.1   158.95\n"
     ]
    },
    {
     "data": {
      "text/plain": [
       "        Country  DHI_mean  DHI_median  DHI_std\n",
       "0         Benin    113.72        -0.1   158.95\n",
       "1          Togo    116.44         2.5   156.52\n",
       "2  Sierra Leone    113.72        -0.1   158.95"
      ],
      "text/html": [
       "<div>\n",
       "<style scoped>\n",
       "    .dataframe tbody tr th:only-of-type {\n",
       "        vertical-align: middle;\n",
       "    }\n",
       "\n",
       "    .dataframe tbody tr th {\n",
       "        vertical-align: top;\n",
       "    }\n",
       "\n",
       "    .dataframe thead th {\n",
       "        text-align: right;\n",
       "    }\n",
       "</style>\n",
       "<table border=\"1\" class=\"dataframe\">\n",
       "  <thead>\n",
       "    <tr style=\"text-align: right;\">\n",
       "      <th></th>\n",
       "      <th>Country</th>\n",
       "      <th>DHI_mean</th>\n",
       "      <th>DHI_median</th>\n",
       "      <th>DHI_std</th>\n",
       "    </tr>\n",
       "  </thead>\n",
       "  <tbody>\n",
       "    <tr>\n",
       "      <th>0</th>\n",
       "      <td>Benin</td>\n",
       "      <td>113.72</td>\n",
       "      <td>-0.1</td>\n",
       "      <td>158.95</td>\n",
       "    </tr>\n",
       "    <tr>\n",
       "      <th>1</th>\n",
       "      <td>Togo</td>\n",
       "      <td>116.44</td>\n",
       "      <td>2.5</td>\n",
       "      <td>156.52</td>\n",
       "    </tr>\n",
       "    <tr>\n",
       "      <th>2</th>\n",
       "      <td>Sierra Leone</td>\n",
       "      <td>113.72</td>\n",
       "      <td>-0.1</td>\n",
       "      <td>158.95</td>\n",
       "    </tr>\n",
       "  </tbody>\n",
       "</table>\n",
       "</div>"
      ]
     },
     "execution_count": 11,
     "metadata": {},
     "output_type": "execute_result"
    }
   ],
   "execution_count": 11
  },
  {
   "metadata": {
    "ExecuteTime": {
     "end_time": "2025-05-21T10:47:25.477763Z",
     "start_time": "2025-05-21T10:47:25.307603Z"
    }
   },
   "cell_type": "code",
   "source": [
    "summary_by_group = combined_df.groupby(\"Country\")[[\"GHI\",\"DNI\",\"DHI\"]].agg(\"mean\",\"median\",\"std\")\n",
    "print(\"📊 Summary Table:\")\n",
    "display(summary_by_group)"
   ],
   "id": "fb7c382f60f013bd",
   "outputs": [
    {
     "name": "stdout",
     "output_type": "stream",
     "text": [
      "📊 Summary Table:\n"
     ]
    },
    {
     "data": {
      "text/plain": [
       "                     GHI         DNI         DHI\n",
       "Country                                         \n",
       "Benin         201.957515  116.376337  113.720571\n",
       "Sierra Leone  201.957515  116.376337  113.720571\n",
       "Togo          230.555040  151.258469  116.444352"
      ],
      "text/html": [
       "<div>\n",
       "<style scoped>\n",
       "    .dataframe tbody tr th:only-of-type {\n",
       "        vertical-align: middle;\n",
       "    }\n",
       "\n",
       "    .dataframe tbody tr th {\n",
       "        vertical-align: top;\n",
       "    }\n",
       "\n",
       "    .dataframe thead th {\n",
       "        text-align: right;\n",
       "    }\n",
       "</style>\n",
       "<table border=\"1\" class=\"dataframe\">\n",
       "  <thead>\n",
       "    <tr style=\"text-align: right;\">\n",
       "      <th></th>\n",
       "      <th>GHI</th>\n",
       "      <th>DNI</th>\n",
       "      <th>DHI</th>\n",
       "    </tr>\n",
       "    <tr>\n",
       "      <th>Country</th>\n",
       "      <th></th>\n",
       "      <th></th>\n",
       "      <th></th>\n",
       "    </tr>\n",
       "  </thead>\n",
       "  <tbody>\n",
       "    <tr>\n",
       "      <th>Benin</th>\n",
       "      <td>201.957515</td>\n",
       "      <td>116.376337</td>\n",
       "      <td>113.720571</td>\n",
       "    </tr>\n",
       "    <tr>\n",
       "      <th>Sierra Leone</th>\n",
       "      <td>201.957515</td>\n",
       "      <td>116.376337</td>\n",
       "      <td>113.720571</td>\n",
       "    </tr>\n",
       "    <tr>\n",
       "      <th>Togo</th>\n",
       "      <td>230.555040</td>\n",
       "      <td>151.258469</td>\n",
       "      <td>116.444352</td>\n",
       "    </tr>\n",
       "  </tbody>\n",
       "</table>\n",
       "</div>"
      ]
     },
     "metadata": {},
     "output_type": "display_data"
    }
   ],
   "execution_count": 12
  },
  {
   "metadata": {},
   "cell_type": "markdown",
   "source": [
    "### Key Observations\n",
    "1.Togo dominates in solar potential, showing the highest mean values for GHI (230.56), DNI (151.26), and DHI (116.44), making it the top candidate for solar energy projects.\n",
    "\n",
    "2. Negative median values for DNI/DHI in Benin & Sierra Leone suggest frequent periods of near-zero sunlight, requiring energy storage or hybrid systems to mitigate intermittency.\n",
    "\n",
    "3. Togo has the highest variability in DNI (±250.96), indicating large fluctuations in direct sunlight, while Benin/Sierra Leone show more stable DHI (±158–159)—better suited for diffuse-light-optimized panels.\n",
    "\n",
    "### Actionable Insight:\n",
    "-> Prioritize Togo for large-scale solar farms, but design systems to handle variability. For Benin/Sierra Leone, focus on battery storage or diffuse-light PV technologies."
   ],
   "id": "2b3b8b8ab7c750ad"
  },
  {
   "metadata": {
    "ExecuteTime": {
     "end_time": "2025-05-21T10:47:29.725348Z",
     "start_time": "2025-05-21T10:47:29.198404Z"
    }
   },
   "cell_type": "code",
   "source": [
    "from scipy import stats\n",
    "\n",
    "# One-way ANOVA (assumes normality, equal variance)\n",
    "f_stat, p_value = stats.f_oneway(benin_df[\"GHI\"], sierraleone_df[\"GHI\"], togo_df[\"GHI\"])\n",
    "print(f\"ANOVA p-value for GHI: {p_value:.4f}\")\n",
    "\n",
    "# If assumptions violated, use Kruskal-Wallis\n",
    "h_stat, p_value_kw = stats.kruskal(benin_df[\"GHI\"], sierraleone_df[\"GHI\"], togo_df[\"GHI\"])\n",
    "print(f\"Kruskal-Wallis p-value for GHI: {p_value_kw:.4f}\")"
   ],
   "id": "825e6fd6b2fb0d81",
   "outputs": [
    {
     "name": "stdout",
     "output_type": "stream",
     "text": [
      "ANOVA p-value for GHI: 0.0000\n",
      "Kruskal-Wallis p-value for GHI: 0.0000\n"
     ]
    }
   ],
   "execution_count": 13
  },
  {
   "metadata": {},
   "cell_type": "markdown",
   "source": [
    "##### Statistical Test Results for GHI\n",
    "One-way ANOVA p-value for GHI: 0.0000\n",
    "1. This indicates a statistically significant difference in mean GHI values across Benin, Togo, and Sierra Leone.\n",
    "\n",
    "Kruskal–Wallis p-value for GHI: 0.0000\n",
    "2. This non-parametric test confirms that the differences in GHI distributions across countries are statistically significant as well.\n",
    "\n",
    "-> Interpretation: Since both p-values are < 0.05, we reject the null hypothesis and conclude that solar potential (GHI) differs significantly among the countries.\n",
    "\n",
    "..Both tests show extremely significant differences (p < 0.05) in GHI (Global Horizontal Irradiance) across the compared countries (Benin, Sierra Leone, Togo).\n",
    "\n",
    "The near-zero p-values indicate:\n",
    "\n",
    "The observed differences in solar potential are not due to random chance.\n",
    "\n",
    "At least one country has a statistically distinct GHI distribution compared to the others."
   ],
   "id": "a3efda6d41906244"
  },
  {
   "metadata": {},
   "cell_type": "code",
   "outputs": [],
   "source": "",
   "id": "bf94b19b398f20fc",
   "execution_count": null
  },
  {
   "metadata": {
    "ExecuteTime": {
     "end_time": "2025-05-21T10:47:38.226745Z",
     "start_time": "2025-05-21T10:47:37.981078Z"
    }
   },
   "cell_type": "code",
   "source": [
    "\n",
    "countries = ['Togo', 'Benin', 'Sierra Leone']\n",
    "ghi_means = [230.56, 201.96, 201.96]\n",
    "colors = ['#7b0bd6', '#1f77b4', '#19d60b']\n",
    "\n",
    "# Create plot\n",
    "plt.figure(figsize=(6, 4))\n",
    "bars = plt.bar(countries, ghi_means, color=colors, width=0.6)\n",
    "\n",
    "# Add value labels\n",
    "for bar in bars:\n",
    "    height = bar.get_height()\n",
    "    plt.text(bar.get_x() + bar.get_width()/2., height,\n",
    "             f'{height:.1f}',\n",
    "             ha='center', va='bottom')\n",
    "\n",
    "# Formatting\n",
    "plt.title('Average GHI by Country', pad=20)\n",
    "plt.ylabel('GHI')\n",
    "plt.ylim(180, 240)\n",
    "plt.grid(axis='y', alpha=0.3)\n",
    "\n",
    "# Remove spines for cleaner look\n",
    "for spine in ['top', 'right']:\n",
    "    plt.gca().spines[spine].set_visible(False)\n",
    "\n",
    "plt.tight_layout()\n",
    "plt.show()"
   ],
   "id": "c7836ce04987655a",
   "outputs": [
    {
     "data": {
      "text/plain": [
       "<Figure size 600x400 with 1 Axes>"
      ],
      "image/png": "[encoded data removed]"
     },
     "metadata": {},
     "output_type": "display_data"
    }
   ],
   "execution_count": 14
  },
  {
   "metadata": {},
   "cell_type": "markdown",
   "source": [
    "## Key Takeaways from the Visualization:\n",
    "1. Clear Leader: Togo stands out with significantly higher average GHI (230.6 kWh/m²/day)\n",
    "\n",
    "2. Tie for Second: Benin and Sierra Leone have identical average GHI values (201.96 kWh/m²/day)\n",
    "\n",
    "3. Performance Gap: ~15% difference between Togo and the other two countries"
   ],
   "id": "a185284e0b8bf3ef"
  },
  {
   "metadata": {},
   "cell_type": "code",
   "outputs": [],
   "execution_count": null,
   "source": "",
   "id": "c00d9e1181f5555b"
  }
 ],
 "metadata": {
  "kernelspec": {
   "display_name": "Python [conda env:base] *",
   "language": "python",
   "name": "conda-base-py"
  },
  "language_info": {
   "codemirror_mode": {
    "name": "ipython",
    "version": 2
   },
   "file_extension": ".py",
   "mimetype": "text/x-python",
   "name": "python",
   "nbconvert_exporter": "python",
   "pygments_lexer": "ipython2",
   "version": "2.7.6"
  }
 },
 "nbformat": 4,
 "nbformat_minor": 5
}
