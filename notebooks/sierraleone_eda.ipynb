{
 "cells": [
  {
   "metadata": {},
   "cell_type": "markdown",
   "source": [
    "\n",
    "# Solar Data EDA - Sierraleone\n",
    "**Branch:** `eda_sierraleone`\n",
    "**Objective:** Clean and profile solar dataset for regional ranking\n",
    "**Key Files:**\n",
    "- Input: `data/sierraleone-bumbuna.csv` (gitignored)\n",
    "- Output: `data/clean/sierraleone_clean.csv` (gitignored)"
   ],
   "id": "4840ef6cbe63bdce"
  },
  {
   "metadata": {},
   "cell_type": "markdown",
   "source": "###1.  setup and load data",
   "id": "5740adc76c4d42b"
  },
  {
   "metadata": {
    "ExecuteTime": {
     "end_time": "2025-05-18T12:19:11.343977Z",
     "start_time": "2025-05-18T12:19:09.858331Z"
    }
   },
   "cell_type": "code",
   "source": [
    "import pandas as pd\n",
    "import numpy as np\n",
    "import matplotlib.pyplot as plt\n",
    "import seaborn as sns\n",
    "from scipy.stats import zscore\n",
    "\n",
    "sierraleone_df = pd.read_csv('../data/sierraleone-bumbuna.csv', parse_dates=['Timestamp'])\n",
    "\n",
    "print(f\"sierraleone solar data shape: {sierraleone_df.shape}\")\n",
    "print(f\"sierraleone solar data szie: {sierraleone_df.size}\")\n",
    "print(f\"sierraleone solar data columns: {sierraleone_df.columns}\")\n",
    "print(sierraleone_df.head())\n",
    "\n"
   ],
   "id": "74cadb741a03a292",
   "outputs": [
    {
     "name": "stdout",
     "output_type": "stream",
     "text": [
      "sierraleone solar data shape: (525600, 19)\n",
      "sierraleone solar data szie: 9986400\n",
      "sierraleone solar data columns: Index(['Timestamp', 'GHI', 'DNI', 'DHI', 'ModA', 'ModB', 'Tamb', 'RH', 'WS',\n",
      "       'WSgust', 'WSstdev', 'WD', 'WDstdev', 'BP', 'Cleaning', 'Precipitation',\n",
      "       'TModA', 'TModB', 'Comments'],\n",
      "      dtype='object')\n",
      "            Timestamp  GHI  DNI  DHI  ModA  ModB  Tamb    RH   WS  WSgust  \\\n",
      "0 2021-10-30 00:01:00 -0.7 -0.1 -0.8   0.0   0.0  21.9  99.1  0.0     0.0   \n",
      "1 2021-10-30 00:02:00 -0.7 -0.1 -0.8   0.0   0.0  21.9  99.2  0.0     0.0   \n",
      "2 2021-10-30 00:03:00 -0.7 -0.1 -0.8   0.0   0.0  21.9  99.2  0.0     0.0   \n",
      "3 2021-10-30 00:04:00 -0.7  0.0 -0.8   0.0   0.0  21.9  99.3  0.0     0.0   \n",
      "4 2021-10-30 00:05:00 -0.7 -0.1 -0.8   0.0   0.0  21.9  99.3  0.0     0.0   \n",
      "\n",
      "   WSstdev   WD  WDstdev    BP  Cleaning  Precipitation  TModA  TModB  \\\n",
      "0      0.0  0.0      0.0  1002         0            0.0   22.3   22.6   \n",
      "1      0.0  0.0      0.0  1002         0            0.0   22.3   22.6   \n",
      "2      0.0  0.0      0.0  1002         0            0.0   22.3   22.6   \n",
      "3      0.0  0.0      0.0  1002         0            0.1   22.3   22.6   \n",
      "4      0.0  0.0      0.0  1002         0            0.0   22.3   22.6   \n",
      "\n",
      "   Comments  \n",
      "0       NaN  \n",
      "1       NaN  \n",
      "2       NaN  \n",
      "3       NaN  \n",
      "4       NaN  \n"
     ]
    }
   ],
   "execution_count": 1
  },
  {
   "metadata": {},
   "cell_type": "code",
   "outputs": [],
   "execution_count": null,
   "source": "",
   "id": "84d90e9f1272cc18"
  },
  {
   "metadata": {},
   "cell_type": "markdown",
   "source": "### 2. describe the data to get the sierraleone solar data stats details",
   "id": "2b063c237beb5b33"
  },
  {
   "metadata": {
    "ExecuteTime": {
     "end_time": "2025-05-18T12:19:59.419157Z",
     "start_time": "2025-05-18T12:19:58.967270Z"
    }
   },
   "cell_type": "code",
   "source": "sierraleone_df.describe()",
   "id": "53dcf90fa349c90a",
   "outputs": [
    {
     "data": {
      "text/plain": [
       "                           Timestamp            GHI            DNI  \\\n",
       "count                         525600  525600.000000  525600.000000   \n",
       "mean   2022-04-30 12:00:30.000000768     201.957515     116.376337   \n",
       "min              2021-10-30 00:01:00     -19.500000      -7.800000   \n",
       "25%              2022-01-29 06:00:45      -2.800000      -0.300000   \n",
       "50%              2022-04-30 12:00:30       0.300000      -0.100000   \n",
       "75%              2022-07-30 18:00:15     362.400000     107.000000   \n",
       "max              2022-10-30 00:00:00    1499.000000     946.000000   \n",
       "std                              NaN     298.495150     218.652659   \n",
       "\n",
       "                 DHI           ModA           ModB           Tamb  \\\n",
       "count  525600.000000  525600.000000  525600.000000  525600.000000   \n",
       "mean      113.720571     206.643095     198.114691      26.319394   \n",
       "min       -17.900000       0.000000       0.000000      12.300000   \n",
       "25%        -3.800000       0.000000       0.000000      23.100000   \n",
       "50%        -0.100000       3.600000       3.400000      25.300000   \n",
       "75%       224.700000     359.500000     345.400000      29.400000   \n",
       "max       892.000000    1507.000000    1473.000000      39.900000   \n",
       "std       158.946032     300.896893     288.889073       4.398605   \n",
       "\n",
       "                  RH             WS         WSgust        WSstdev  \\\n",
       "count  525600.000000  525600.000000  525600.000000  525600.000000   \n",
       "mean       79.448857       1.146113       1.691606       0.363823   \n",
       "min         9.900000       0.000000       0.000000       0.000000   \n",
       "25%        68.700000       0.000000       0.000000       0.000000   \n",
       "50%        85.400000       0.800000       1.600000       0.400000   \n",
       "75%        96.700000       2.000000       2.600000       0.600000   \n",
       "max       100.000000      19.200000      23.900000       4.100000   \n",
       "std        20.520775       1.239248       1.617053       0.295000   \n",
       "\n",
       "                  WD        WDstdev             BP       Cleaning  \\\n",
       "count  525600.000000  525600.000000  525600.000000  525600.000000   \n",
       "mean      133.044668       7.172220     999.876469       0.000967   \n",
       "min         0.000000       0.000000     993.000000       0.000000   \n",
       "25%         0.000000       0.000000     999.000000       0.000000   \n",
       "50%       161.500000       6.200000    1000.000000       0.000000   \n",
       "75%       234.100000      12.000000    1001.000000       0.000000   \n",
       "max       360.000000      98.400000    1006.000000       1.000000   \n",
       "std       114.284792       7.535093       2.104419       0.031074   \n",
       "\n",
       "       Precipitation          TModA          TModB  Comments  \n",
       "count  525600.000000  525600.000000  525600.000000       0.0  \n",
       "mean        0.004806      32.504263      32.593091       NaN  \n",
       "min         0.000000      10.700000      11.100000       NaN  \n",
       "25%         0.000000      23.500000      23.800000       NaN  \n",
       "50%         0.000000      26.600000      26.900000       NaN  \n",
       "75%         0.000000      40.900000      41.300000       NaN  \n",
       "max         2.400000      72.800000      70.400000       NaN  \n",
       "std         0.047556      12.434899      12.009161       NaN  "
      ],
      "text/html": [
       "<div>\n",
       "<style scoped>\n",
       "    .dataframe tbody tr th:only-of-type {\n",
       "        vertical-align: middle;\n",
       "    }\n",
       "\n",
       "    .dataframe tbody tr th {\n",
       "        vertical-align: top;\n",
       "    }\n",
       "\n",
       "    .dataframe thead th {\n",
       "        text-align: right;\n",
       "    }\n",
       "</style>\n",
       "<table border=\"1\" class=\"dataframe\">\n",
       "  <thead>\n",
       "    <tr style=\"text-align: right;\">\n",
       "      <th></th>\n",
       "      <th>Timestamp</th>\n",
       "      <th>GHI</th>\n",
       "      <th>DNI</th>\n",
       "      <th>DHI</th>\n",
       "      <th>ModA</th>\n",
       "      <th>ModB</th>\n",
       "      <th>Tamb</th>\n",
       "      <th>RH</th>\n",
       "      <th>WS</th>\n",
       "      <th>WSgust</th>\n",
       "      <th>WSstdev</th>\n",
       "      <th>WD</th>\n",
       "      <th>WDstdev</th>\n",
       "      <th>BP</th>\n",
       "      <th>Cleaning</th>\n",
       "      <th>Precipitation</th>\n",
       "      <th>TModA</th>\n",
       "      <th>TModB</th>\n",
       "      <th>Comments</th>\n",
       "    </tr>\n",
       "  </thead>\n",
       "  <tbody>\n",
       "    <tr>\n",
       "      <th>count</th>\n",
       "      <td>525600</td>\n",
       "      <td>525600.000000</td>\n",
       "      <td>525600.000000</td>\n",
       "      <td>525600.000000</td>\n",
       "      <td>525600.000000</td>\n",
       "      <td>525600.000000</td>\n",
       "      <td>525600.000000</td>\n",
       "      <td>525600.000000</td>\n",
       "      <td>525600.000000</td>\n",
       "      <td>525600.000000</td>\n",
       "      <td>525600.000000</td>\n",
       "      <td>525600.000000</td>\n",
       "      <td>525600.000000</td>\n",
       "      <td>525600.000000</td>\n",
       "      <td>525600.000000</td>\n",
       "      <td>525600.000000</td>\n",
       "      <td>525600.000000</td>\n",
       "      <td>525600.000000</td>\n",
       "      <td>0.0</td>\n",
       "    </tr>\n",
       "    <tr>\n",
       "      <th>mean</th>\n",
       "      <td>2022-04-30 12:00:30.000000768</td>\n",
       "      <td>201.957515</td>\n",
       "      <td>116.376337</td>\n",
       "      <td>113.720571</td>\n",
       "      <td>206.643095</td>\n",
       "      <td>198.114691</td>\n",
       "      <td>26.319394</td>\n",
       "      <td>79.448857</td>\n",
       "      <td>1.146113</td>\n",
       "      <td>1.691606</td>\n",
       "      <td>0.363823</td>\n",
       "      <td>133.044668</td>\n",
       "      <td>7.172220</td>\n",
       "      <td>999.876469</td>\n",
       "      <td>0.000967</td>\n",
       "      <td>0.004806</td>\n",
       "      <td>32.504263</td>\n",
       "      <td>32.593091</td>\n",
       "      <td>NaN</td>\n",
       "    </tr>\n",
       "    <tr>\n",
       "      <th>min</th>\n",
       "      <td>2021-10-30 00:01:00</td>\n",
       "      <td>-19.500000</td>\n",
       "      <td>-7.800000</td>\n",
       "      <td>-17.900000</td>\n",
       "      <td>0.000000</td>\n",
       "      <td>0.000000</td>\n",
       "      <td>12.300000</td>\n",
       "      <td>9.900000</td>\n",
       "      <td>0.000000</td>\n",
       "      <td>0.000000</td>\n",
       "      <td>0.000000</td>\n",
       "      <td>0.000000</td>\n",
       "      <td>0.000000</td>\n",
       "      <td>993.000000</td>\n",
       "      <td>0.000000</td>\n",
       "      <td>0.000000</td>\n",
       "      <td>10.700000</td>\n",
       "      <td>11.100000</td>\n",
       "      <td>NaN</td>\n",
       "    </tr>\n",
       "    <tr>\n",
       "      <th>25%</th>\n",
       "      <td>2022-01-29 06:00:45</td>\n",
       "      <td>-2.800000</td>\n",
       "      <td>-0.300000</td>\n",
       "      <td>-3.800000</td>\n",
       "      <td>0.000000</td>\n",
       "      <td>0.000000</td>\n",
       "      <td>23.100000</td>\n",
       "      <td>68.700000</td>\n",
       "      <td>0.000000</td>\n",
       "      <td>0.000000</td>\n",
       "      <td>0.000000</td>\n",
       "      <td>0.000000</td>\n",
       "      <td>0.000000</td>\n",
       "      <td>999.000000</td>\n",
       "      <td>0.000000</td>\n",
       "      <td>0.000000</td>\n",
       "      <td>23.500000</td>\n",
       "      <td>23.800000</td>\n",
       "      <td>NaN</td>\n",
       "    </tr>\n",
       "    <tr>\n",
       "      <th>50%</th>\n",
       "      <td>2022-04-30 12:00:30</td>\n",
       "      <td>0.300000</td>\n",
       "      <td>-0.100000</td>\n",
       "      <td>-0.100000</td>\n",
       "      <td>3.600000</td>\n",
       "      <td>3.400000</td>\n",
       "      <td>25.300000</td>\n",
       "      <td>85.400000</td>\n",
       "      <td>0.800000</td>\n",
       "      <td>1.600000</td>\n",
       "      <td>0.400000</td>\n",
       "      <td>161.500000</td>\n",
       "      <td>6.200000</td>\n",
       "      <td>1000.000000</td>\n",
       "      <td>0.000000</td>\n",
       "      <td>0.000000</td>\n",
       "      <td>26.600000</td>\n",
       "      <td>26.900000</td>\n",
       "      <td>NaN</td>\n",
       "    </tr>\n",
       "    <tr>\n",
       "      <th>75%</th>\n",
       "      <td>2022-07-30 18:00:15</td>\n",
       "      <td>362.400000</td>\n",
       "      <td>107.000000</td>\n",
       "      <td>224.700000</td>\n",
       "      <td>359.500000</td>\n",
       "      <td>345.400000</td>\n",
       "      <td>29.400000</td>\n",
       "      <td>96.700000</td>\n",
       "      <td>2.000000</td>\n",
       "      <td>2.600000</td>\n",
       "      <td>0.600000</td>\n",
       "      <td>234.100000</td>\n",
       "      <td>12.000000</td>\n",
       "      <td>1001.000000</td>\n",
       "      <td>0.000000</td>\n",
       "      <td>0.000000</td>\n",
       "      <td>40.900000</td>\n",
       "      <td>41.300000</td>\n",
       "      <td>NaN</td>\n",
       "    </tr>\n",
       "    <tr>\n",
       "      <th>max</th>\n",
       "      <td>2022-10-30 00:00:00</td>\n",
       "      <td>1499.000000</td>\n",
       "      <td>946.000000</td>\n",
       "      <td>892.000000</td>\n",
       "      <td>1507.000000</td>\n",
       "      <td>1473.000000</td>\n",
       "      <td>39.900000</td>\n",
       "      <td>100.000000</td>\n",
       "      <td>19.200000</td>\n",
       "      <td>23.900000</td>\n",
       "      <td>4.100000</td>\n",
       "      <td>360.000000</td>\n",
       "      <td>98.400000</td>\n",
       "      <td>1006.000000</td>\n",
       "      <td>1.000000</td>\n",
       "      <td>2.400000</td>\n",
       "      <td>72.800000</td>\n",
       "      <td>70.400000</td>\n",
       "      <td>NaN</td>\n",
       "    </tr>\n",
       "    <tr>\n",
       "      <th>std</th>\n",
       "      <td>NaN</td>\n",
       "      <td>298.495150</td>\n",
       "      <td>218.652659</td>\n",
       "      <td>158.946032</td>\n",
       "      <td>300.896893</td>\n",
       "      <td>288.889073</td>\n",
       "      <td>4.398605</td>\n",
       "      <td>20.520775</td>\n",
       "      <td>1.239248</td>\n",
       "      <td>1.617053</td>\n",
       "      <td>0.295000</td>\n",
       "      <td>114.284792</td>\n",
       "      <td>7.535093</td>\n",
       "      <td>2.104419</td>\n",
       "      <td>0.031074</td>\n",
       "      <td>0.047556</td>\n",
       "      <td>12.434899</td>\n",
       "      <td>12.009161</td>\n",
       "      <td>NaN</td>\n",
       "    </tr>\n",
       "  </tbody>\n",
       "</table>\n",
       "</div>"
      ]
     },
     "execution_count": 2,
     "metadata": {},
     "output_type": "execute_result"
    }
   ],
   "execution_count": 2
  },
  {
   "metadata": {},
   "cell_type": "code",
   "outputs": [],
   "execution_count": null,
   "source": "",
   "id": "aacddb33a265788f"
  },
  {
   "metadata": {},
   "cell_type": "markdown",
   "source": "### 3. sierraleone solar data info",
   "id": "8a99bf7b0e898300"
  },
  {
   "metadata": {
    "ExecuteTime": {
     "end_time": "2025-05-18T12:20:34.478446Z",
     "start_time": "2025-05-18T12:20:34.431257Z"
    }
   },
   "cell_type": "code",
   "source": "sierraleone_df.info()",
   "id": "2a77a5c7856de02d",
   "outputs": [
    {
     "name": "stdout",
     "output_type": "stream",
     "text": [
      "<class 'pandas.core.frame.DataFrame'>\n",
      "RangeIndex: 525600 entries, 0 to 525599\n",
      "Data columns (total 19 columns):\n",
      " #   Column         Non-Null Count   Dtype         \n",
      "---  ------         --------------   -----         \n",
      " 0   Timestamp      525600 non-null  datetime64[ns]\n",
      " 1   GHI            525600 non-null  float64       \n",
      " 2   DNI            525600 non-null  float64       \n",
      " 3   DHI            525600 non-null  float64       \n",
      " 4   ModA           525600 non-null  float64       \n",
      " 5   ModB           525600 non-null  float64       \n",
      " 6   Tamb           525600 non-null  float64       \n",
      " 7   RH             525600 non-null  float64       \n",
      " 8   WS             525600 non-null  float64       \n",
      " 9   WSgust         525600 non-null  float64       \n",
      " 10  WSstdev        525600 non-null  float64       \n",
      " 11  WD             525600 non-null  float64       \n",
      " 12  WDstdev        525600 non-null  float64       \n",
      " 13  BP             525600 non-null  int64         \n",
      " 14  Cleaning       525600 non-null  int64         \n",
      " 15  Precipitation  525600 non-null  float64       \n",
      " 16  TModA          525600 non-null  float64       \n",
      " 17  TModB          525600 non-null  float64       \n",
      " 18  Comments       0 non-null       float64       \n",
      "dtypes: datetime64[ns](1), float64(16), int64(2)\n",
      "memory usage: 76.2 MB\n"
     ]
    }
   ],
   "execution_count": 3
  },
  {
   "metadata": {
    "ExecuteTime": {
     "end_time": "2025-05-18T12:20:34.874996Z",
     "start_time": "2025-05-18T12:20:34.871627Z"
    }
   },
   "cell_type": "code",
   "source": "",
   "id": "8aec36429c74aa4b",
   "outputs": [],
   "execution_count": null
  },
  {
   "metadata": {},
   "cell_type": "code",
   "outputs": [],
   "execution_count": null,
   "source": "",
   "id": "6364ce6a7a7f13a4"
  },
  {
   "metadata": {},
   "cell_type": "markdown",
   "source": "### 4. Check for duplicate timestamps",
   "id": "f6dd6ca6f38fa9de"
  },
  {
   "metadata": {
    "ExecuteTime": {
     "end_time": "2025-05-18T12:21:23.336Z",
     "start_time": "2025-05-18T12:21:23.285488Z"
    }
   },
   "cell_type": "code",
   "source": [
    "dup_timestamps = sierraleone_df[sierraleone_df.duplicated(subset=['Timestamp'], keep=False)]\n",
    "print(f\"Duplicate timestamps: {dup_timestamps}\")"
   ],
   "id": "dfeeb18517eb61ce",
   "outputs": [
    {
     "name": "stdout",
     "output_type": "stream",
     "text": [
      "Duplicate timestamps: Empty DataFrame\n",
      "Columns: [Timestamp, GHI, DNI, DHI, ModA, ModB, Tamb, RH, WS, WSgust, WSstdev, WD, WDstdev, BP, Cleaning, Precipitation, TModA, TModB, Comments]\n",
      "Index: []\n"
     ]
    }
   ],
   "execution_count": 4
  },
  {
   "metadata": {},
   "cell_type": "code",
   "outputs": [],
   "execution_count": null,
   "source": "",
   "id": "e476b3a209ca750"
  },
  {
   "metadata": {},
   "cell_type": "markdown",
   "source": [
    "### 5. No duplicate, so use timestamp as index\n",
    "\n"
   ],
   "id": "d638f155e5086647"
  },
  {
   "metadata": {
    "ExecuteTime": {
     "end_time": "2025-05-18T12:21:58.610375Z",
     "start_time": "2025-05-18T12:21:58.592761Z"
    }
   },
   "cell_type": "code",
   "source": [
    "sierraleone_df.set_index('Timestamp', inplace=True)\n",
    "print(sierraleone_df.head())"
   ],
   "id": "5f8e4b9392c9c2b1",
   "outputs": [
    {
     "name": "stdout",
     "output_type": "stream",
     "text": [
      "                     GHI  DNI  DHI  ModA  ModB  Tamb    RH   WS  WSgust  \\\n",
      "Timestamp                                                                 \n",
      "2021-10-30 00:01:00 -0.7 -0.1 -0.8   0.0   0.0  21.9  99.1  0.0     0.0   \n",
      "2021-10-30 00:02:00 -0.7 -0.1 -0.8   0.0   0.0  21.9  99.2  0.0     0.0   \n",
      "2021-10-30 00:03:00 -0.7 -0.1 -0.8   0.0   0.0  21.9  99.2  0.0     0.0   \n",
      "2021-10-30 00:04:00 -0.7  0.0 -0.8   0.0   0.0  21.9  99.3  0.0     0.0   \n",
      "2021-10-30 00:05:00 -0.7 -0.1 -0.8   0.0   0.0  21.9  99.3  0.0     0.0   \n",
      "\n",
      "                     WSstdev   WD  WDstdev    BP  Cleaning  Precipitation  \\\n",
      "Timestamp                                                                   \n",
      "2021-10-30 00:01:00      0.0  0.0      0.0  1002         0            0.0   \n",
      "2021-10-30 00:02:00      0.0  0.0      0.0  1002         0            0.0   \n",
      "2021-10-30 00:03:00      0.0  0.0      0.0  1002         0            0.0   \n",
      "2021-10-30 00:04:00      0.0  0.0      0.0  1002         0            0.1   \n",
      "2021-10-30 00:05:00      0.0  0.0      0.0  1002         0            0.0   \n",
      "\n",
      "                     TModA  TModB  Comments  \n",
      "Timestamp                                    \n",
      "2021-10-30 00:01:00   22.3   22.6       NaN  \n",
      "2021-10-30 00:02:00   22.3   22.6       NaN  \n",
      "2021-10-30 00:03:00   22.3   22.6       NaN  \n",
      "2021-10-30 00:04:00   22.3   22.6       NaN  \n",
      "2021-10-30 00:05:00   22.3   22.6       NaN  \n"
     ]
    }
   ],
   "execution_count": 5
  },
  {
   "metadata": {},
   "cell_type": "code",
   "outputs": [],
   "execution_count": null,
   "source": "",
   "id": "f1d362fa1e83067b"
  },
  {
   "metadata": {},
   "cell_type": "markdown",
   "source": "#### 6. Missing data report",
   "id": "d18516320fd4b288"
  },
  {
   "metadata": {
    "ExecuteTime": {
     "end_time": "2025-05-18T12:22:46.029887Z",
     "start_time": "2025-05-18T12:22:46.004615Z"
    }
   },
   "cell_type": "code",
   "source": [
    "missing = sierraleone_df.isna().sum()\n",
    "\n",
    "print(f\"Missing values: {missing}\")\n",
    "threshold = 0.05 * len(sierraleone_df)\n",
    "print(f\"threshold\", threshold)\n",
    "print(\"Columns with >5% missing values:\\n\", missing[missing > threshold])\n"
   ],
   "id": "b20ce6a1b5cd1c0f",
   "outputs": [
    {
     "name": "stdout",
     "output_type": "stream",
     "text": [
      "Missing values: GHI                   0\n",
      "DNI                   0\n",
      "DHI                   0\n",
      "ModA                  0\n",
      "ModB                  0\n",
      "Tamb                  0\n",
      "RH                    0\n",
      "WS                    0\n",
      "WSgust                0\n",
      "WSstdev               0\n",
      "WD                    0\n",
      "WDstdev               0\n",
      "BP                    0\n",
      "Cleaning              0\n",
      "Precipitation         0\n",
      "TModA                 0\n",
      "TModB                 0\n",
      "Comments         525600\n",
      "dtype: int64\n",
      "threshold 26280.0\n",
      "Columns with >5% missing values:\n",
      " Comments    525600\n",
      "dtype: int64\n"
     ]
    }
   ],
   "execution_count": 6
  },
  {
   "metadata": {},
   "cell_type": "code",
   "outputs": [],
   "execution_count": null,
   "source": "",
   "id": "b6adba3e4f14b1b9"
  },
  {
   "metadata": {},
   "cell_type": "markdown",
   "source": "### 7.  Z-scores",
   "id": "297ea57afe580815"
  },
  {
   "metadata": {
    "ExecuteTime": {
     "end_time": "2025-05-18T12:23:17.565874Z",
     "start_time": "2025-05-18T12:23:17.399335Z"
    }
   },
   "cell_type": "code",
   "source": [
    "cols_to_check = ['GHI', 'DNI', 'DHI', 'ModA', 'ModB', 'WS', 'WSgust']\n",
    "z_scores   = np.abs(zscore(sierraleone_df[cols_to_check].dropna()))\n",
    "print(f\"z_scores: {z_scores}\")"
   ],
   "id": "830fe46eb9ea442d",
   "outputs": [
    {
     "name": "stdout",
     "output_type": "stream",
     "text": [
      "z_scores:                           GHI       DNI       DHI      ModA      ModB  \\\n",
      "Timestamp                                                               \n",
      "2021-10-30 00:01:00  0.678931  0.532701  0.720500  0.686758  0.685782   \n",
      "2021-10-30 00:02:00  0.678931  0.532701  0.720500  0.686758  0.685782   \n",
      "2021-10-30 00:03:00  0.678931  0.532701  0.720500  0.686758  0.685782   \n",
      "2021-10-30 00:04:00  0.678931  0.532243  0.720500  0.686758  0.685782   \n",
      "2021-10-30 00:05:00  0.678931  0.532701  0.720500  0.686758  0.685782   \n",
      "...                       ...       ...       ...       ...       ...   \n",
      "2022-10-29 23:56:00  0.681946  0.532701  0.733712  0.686758  0.685782   \n",
      "2022-10-29 23:57:00  0.682281  0.532701  0.734342  0.686758  0.685782   \n",
      "2022-10-29 23:58:00  0.682281  0.532701  0.734971  0.686758  0.685782   \n",
      "2022-10-29 23:59:00  0.682281  0.533158  0.736229  0.686758  0.685782   \n",
      "2022-10-30 00:00:00  0.682281  0.532701  0.736858  0.686758  0.685782   \n",
      "\n",
      "                           WS    WSgust  \n",
      "Timestamp                                \n",
      "2021-10-30 00:01:00  0.924846  1.046105  \n",
      "2021-10-30 00:02:00  0.924846  1.046105  \n",
      "2021-10-30 00:03:00  0.924846  1.046105  \n",
      "2021-10-30 00:04:00  0.924846  1.046105  \n",
      "2021-10-30 00:05:00  0.924846  1.046105  \n",
      "...                       ...       ...  \n",
      "2022-10-29 23:56:00  0.924846  1.046105  \n",
      "2022-10-29 23:57:00  0.924846  1.046105  \n",
      "2022-10-29 23:58:00  0.924846  1.046105  \n",
      "2022-10-29 23:59:00  0.924846  1.046105  \n",
      "2022-10-30 00:00:00  0.924846  1.046105  \n",
      "\n",
      "[525600 rows x 7 columns]\n"
     ]
    }
   ],
   "execution_count": 7
  },
  {
   "metadata": {},
   "cell_type": "code",
   "outputs": [],
   "execution_count": null,
   "source": "",
   "id": "5f9f9c787cc0644e"
  },
  {
   "metadata": {},
   "cell_type": "markdown",
   "source": "### 8. Outliers detection\n",
   "id": "2162224c08d548"
  },
  {
   "metadata": {
    "ExecuteTime": {
     "end_time": "2025-05-18T12:24:19.113591Z",
     "start_time": "2025-05-18T12:24:19.065889Z"
    }
   },
   "cell_type": "code",
   "source": [
    "\n",
    "outliers = (z_scores > 3).any(axis=1)\n",
    "sierraleone_df['CleaningFlag'] = outliers\n",
    "print(f\"outliers: {outliers}\")\n",
    "print(sierraleone_df[\"CleaningFlag\"].value_counts())\n",
    "outlier_rows =sierraleone_df[sierraleone_df['CleaningFlag']]\n",
    "outlier_rows.head()\n",
    "\n"
   ],
   "id": "1e699c416ed00837",
   "outputs": [
    {
     "name": "stdout",
     "output_type": "stream",
     "text": [
      "outliers: Timestamp\n",
      "2021-10-30 00:01:00    False\n",
      "2021-10-30 00:02:00    False\n",
      "2021-10-30 00:03:00    False\n",
      "2021-10-30 00:04:00    False\n",
      "2021-10-30 00:05:00    False\n",
      "                       ...  \n",
      "2022-10-29 23:56:00    False\n",
      "2022-10-29 23:57:00    False\n",
      "2022-10-29 23:58:00    False\n",
      "2022-10-29 23:59:00    False\n",
      "2022-10-30 00:00:00    False\n",
      "Length: 525600, dtype: bool\n",
      "CleaningFlag\n",
      "False    509308\n",
      "True      16292\n",
      "Name: count, dtype: int64\n"
     ]
    },
    {
     "data": {
      "text/plain": [
       "                       GHI    DNI    DHI   ModA   ModB  Tamb    RH   WS  \\\n",
       "Timestamp                                                                 \n",
       "2021-10-30 10:54:00  814.0  257.0  594.3  878.0  856.0  25.9  85.3  0.5   \n",
       "2021-10-30 10:55:00  826.0  263.5  599.6  883.0  861.0  26.0  85.4  1.7   \n",
       "2021-10-30 10:56:00  851.0  285.0  605.9  912.0  890.0  26.0  84.2  1.6   \n",
       "2021-10-30 10:57:00  823.0  254.8  603.9  878.0  856.0  26.0  85.3  0.8   \n",
       "2021-10-30 10:58:00  810.0  244.5  598.8  864.0  843.0  26.1  85.7  0.6   \n",
       "\n",
       "                     WSgust  WSstdev     WD  WDstdev    BP  Cleaning  \\\n",
       "Timestamp                                                              \n",
       "2021-10-30 10:54:00     1.1      0.5   81.4      7.9  1002         0   \n",
       "2021-10-30 10:55:00     2.4      0.4   74.6     12.1  1002         0   \n",
       "2021-10-30 10:56:00     2.1      0.5   66.4     14.6  1002         0   \n",
       "2021-10-30 10:57:00     1.6      0.6   90.2      7.0  1002         0   \n",
       "2021-10-30 10:58:00     1.6      0.6  108.5      7.9  1002         0   \n",
       "\n",
       "                     Precipitation  TModA  TModB  Comments  CleaningFlag  \n",
       "Timestamp                                                                 \n",
       "2021-10-30 10:54:00            0.0   50.4   45.6       NaN          True  \n",
       "2021-10-30 10:55:00            0.0   51.6   46.6       NaN          True  \n",
       "2021-10-30 10:56:00            0.0   52.4   47.0       NaN          True  \n",
       "2021-10-30 10:57:00            0.0   53.4   47.7       NaN          True  \n",
       "2021-10-30 10:58:00            0.0   54.6   48.6       NaN          True  "
      ],
      "text/html": [
       "<div>\n",
       "<style scoped>\n",
       "    .dataframe tbody tr th:only-of-type {\n",
       "        vertical-align: middle;\n",
       "    }\n",
       "\n",
       "    .dataframe tbody tr th {\n",
       "        vertical-align: top;\n",
       "    }\n",
       "\n",
       "    .dataframe thead th {\n",
       "        text-align: right;\n",
       "    }\n",
       "</style>\n",
       "<table border=\"1\" class=\"dataframe\">\n",
       "  <thead>\n",
       "    <tr style=\"text-align: right;\">\n",
       "      <th></th>\n",
       "      <th>GHI</th>\n",
       "      <th>DNI</th>\n",
       "      <th>DHI</th>\n",
       "      <th>ModA</th>\n",
       "      <th>ModB</th>\n",
       "      <th>Tamb</th>\n",
       "      <th>RH</th>\n",
       "      <th>WS</th>\n",
       "      <th>WSgust</th>\n",
       "      <th>WSstdev</th>\n",
       "      <th>WD</th>\n",
       "      <th>WDstdev</th>\n",
       "      <th>BP</th>\n",
       "      <th>Cleaning</th>\n",
       "      <th>Precipitation</th>\n",
       "      <th>TModA</th>\n",
       "      <th>TModB</th>\n",
       "      <th>Comments</th>\n",
       "      <th>CleaningFlag</th>\n",
       "    </tr>\n",
       "    <tr>\n",
       "      <th>Timestamp</th>\n",
       "      <th></th>\n",
       "      <th></th>\n",
       "      <th></th>\n",
       "      <th></th>\n",
       "      <th></th>\n",
       "      <th></th>\n",
       "      <th></th>\n",
       "      <th></th>\n",
       "      <th></th>\n",
       "      <th></th>\n",
       "      <th></th>\n",
       "      <th></th>\n",
       "      <th></th>\n",
       "      <th></th>\n",
       "      <th></th>\n",
       "      <th></th>\n",
       "      <th></th>\n",
       "      <th></th>\n",
       "      <th></th>\n",
       "    </tr>\n",
       "  </thead>\n",
       "  <tbody>\n",
       "    <tr>\n",
       "      <th>2021-10-30 10:54:00</th>\n",
       "      <td>814.0</td>\n",
       "      <td>257.0</td>\n",
       "      <td>594.3</td>\n",
       "      <td>878.0</td>\n",
       "      <td>856.0</td>\n",
       "      <td>25.9</td>\n",
       "      <td>85.3</td>\n",
       "      <td>0.5</td>\n",
       "      <td>1.1</td>\n",
       "      <td>0.5</td>\n",
       "      <td>81.4</td>\n",
       "      <td>7.9</td>\n",
       "      <td>1002</td>\n",
       "      <td>0</td>\n",
       "      <td>0.0</td>\n",
       "      <td>50.4</td>\n",
       "      <td>45.6</td>\n",
       "      <td>NaN</td>\n",
       "      <td>True</td>\n",
       "    </tr>\n",
       "    <tr>\n",
       "      <th>2021-10-30 10:55:00</th>\n",
       "      <td>826.0</td>\n",
       "      <td>263.5</td>\n",
       "      <td>599.6</td>\n",
       "      <td>883.0</td>\n",
       "      <td>861.0</td>\n",
       "      <td>26.0</td>\n",
       "      <td>85.4</td>\n",
       "      <td>1.7</td>\n",
       "      <td>2.4</td>\n",
       "      <td>0.4</td>\n",
       "      <td>74.6</td>\n",
       "      <td>12.1</td>\n",
       "      <td>1002</td>\n",
       "      <td>0</td>\n",
       "      <td>0.0</td>\n",
       "      <td>51.6</td>\n",
       "      <td>46.6</td>\n",
       "      <td>NaN</td>\n",
       "      <td>True</td>\n",
       "    </tr>\n",
       "    <tr>\n",
       "      <th>2021-10-30 10:56:00</th>\n",
       "      <td>851.0</td>\n",
       "      <td>285.0</td>\n",
       "      <td>605.9</td>\n",
       "      <td>912.0</td>\n",
       "      <td>890.0</td>\n",
       "      <td>26.0</td>\n",
       "      <td>84.2</td>\n",
       "      <td>1.6</td>\n",
       "      <td>2.1</td>\n",
       "      <td>0.5</td>\n",
       "      <td>66.4</td>\n",
       "      <td>14.6</td>\n",
       "      <td>1002</td>\n",
       "      <td>0</td>\n",
       "      <td>0.0</td>\n",
       "      <td>52.4</td>\n",
       "      <td>47.0</td>\n",
       "      <td>NaN</td>\n",
       "      <td>True</td>\n",
       "    </tr>\n",
       "    <tr>\n",
       "      <th>2021-10-30 10:57:00</th>\n",
       "      <td>823.0</td>\n",
       "      <td>254.8</td>\n",
       "      <td>603.9</td>\n",
       "      <td>878.0</td>\n",
       "      <td>856.0</td>\n",
       "      <td>26.0</td>\n",
       "      <td>85.3</td>\n",
       "      <td>0.8</td>\n",
       "      <td>1.6</td>\n",
       "      <td>0.6</td>\n",
       "      <td>90.2</td>\n",
       "      <td>7.0</td>\n",
       "      <td>1002</td>\n",
       "      <td>0</td>\n",
       "      <td>0.0</td>\n",
       "      <td>53.4</td>\n",
       "      <td>47.7</td>\n",
       "      <td>NaN</td>\n",
       "      <td>True</td>\n",
       "    </tr>\n",
       "    <tr>\n",
       "      <th>2021-10-30 10:58:00</th>\n",
       "      <td>810.0</td>\n",
       "      <td>244.5</td>\n",
       "      <td>598.8</td>\n",
       "      <td>864.0</td>\n",
       "      <td>843.0</td>\n",
       "      <td>26.1</td>\n",
       "      <td>85.7</td>\n",
       "      <td>0.6</td>\n",
       "      <td>1.6</td>\n",
       "      <td>0.6</td>\n",
       "      <td>108.5</td>\n",
       "      <td>7.9</td>\n",
       "      <td>1002</td>\n",
       "      <td>0</td>\n",
       "      <td>0.0</td>\n",
       "      <td>54.6</td>\n",
       "      <td>48.6</td>\n",
       "      <td>NaN</td>\n",
       "      <td>True</td>\n",
       "    </tr>\n",
       "  </tbody>\n",
       "</table>\n",
       "</div>"
      ]
     },
     "execution_count": 10,
     "metadata": {},
     "output_type": "execute_result"
    }
   ],
   "execution_count": 10
  },
  {
   "metadata": {},
   "cell_type": "code",
   "outputs": [],
   "execution_count": null,
   "source": "",
   "id": "334349439b4017ad"
  },
  {
   "metadata": {},
   "cell_type": "markdown",
   "source": "#### 9. Impute and clean",
   "id": "baf4a27d270e0e6d"
  },
  {
   "metadata": {
    "ExecuteTime": {
     "end_time": "2025-05-18T12:25:30.867879Z",
     "start_time": "2025-05-18T12:25:30.599794Z"
    }
   },
   "cell_type": "code",
   "source": [
    "sierraleone_clean = sierraleone_df.copy()\n",
    "sierraleone_clean[cols_to_check] = sierraleone_clean[cols_to_check].fillna(sierraleone_clean[cols_to_check].mean())\n",
    "sierraleone_clean.head\n",
    "\n"
   ],
   "id": "6e91a406f89d5c80",
   "outputs": [
    {
     "data": {
      "text/plain": [
       "<bound method NDFrame.head of                      GHI  DNI  DHI  ModA  ModB  Tamb     RH   WS  WSgust  \\\n",
       "Timestamp                                                                  \n",
       "2021-10-30 00:01:00 -0.7 -0.1 -0.8   0.0   0.0  21.9   99.1  0.0     0.0   \n",
       "2021-10-30 00:02:00 -0.7 -0.1 -0.8   0.0   0.0  21.9   99.2  0.0     0.0   \n",
       "2021-10-30 00:03:00 -0.7 -0.1 -0.8   0.0   0.0  21.9   99.2  0.0     0.0   \n",
       "2021-10-30 00:04:00 -0.7  0.0 -0.8   0.0   0.0  21.9   99.3  0.0     0.0   \n",
       "2021-10-30 00:05:00 -0.7 -0.1 -0.8   0.0   0.0  21.9   99.3  0.0     0.0   \n",
       "...                  ...  ...  ...   ...   ...   ...    ...  ...     ...   \n",
       "2022-10-29 23:56:00 -1.6 -0.1 -2.9   0.0   0.0  24.0  100.0  0.0     0.0   \n",
       "2022-10-29 23:57:00 -1.7 -0.1 -3.0   0.0   0.0  24.0  100.0  0.0     0.0   \n",
       "2022-10-29 23:58:00 -1.7 -0.1 -3.1   0.0   0.0  24.0  100.0  0.0     0.0   \n",
       "2022-10-29 23:59:00 -1.7 -0.2 -3.3   0.0   0.0  23.9  100.0  0.0     0.0   \n",
       "2022-10-30 00:00:00 -1.7 -0.1 -3.4   0.0   0.0  23.9  100.0  0.0     0.0   \n",
       "\n",
       "                     WSstdev   WD  WDstdev    BP  Cleaning  Precipitation  \\\n",
       "Timestamp                                                                   \n",
       "2021-10-30 00:01:00      0.0  0.0      0.0  1002         0            0.0   \n",
       "2021-10-30 00:02:00      0.0  0.0      0.0  1002         0            0.0   \n",
       "2021-10-30 00:03:00      0.0  0.0      0.0  1002         0            0.0   \n",
       "2021-10-30 00:04:00      0.0  0.0      0.0  1002         0            0.1   \n",
       "2021-10-30 00:05:00      0.0  0.0      0.0  1002         0            0.0   \n",
       "...                      ...  ...      ...   ...       ...            ...   \n",
       "2022-10-29 23:56:00      0.0  0.0      0.0   999         0            0.0   \n",
       "2022-10-29 23:57:00      0.0  0.0      0.0   999         0            0.0   \n",
       "2022-10-29 23:58:00      0.0  0.0      0.0  1000         0            0.0   \n",
       "2022-10-29 23:59:00      0.0  0.0      0.0  1000         0            0.0   \n",
       "2022-10-30 00:00:00      0.0  0.0      0.0  1000         0            0.0   \n",
       "\n",
       "                     TModA  TModB  Comments  CleaningFlag  \n",
       "Timestamp                                                  \n",
       "2021-10-30 00:01:00   22.3   22.6       NaN         False  \n",
       "2021-10-30 00:02:00   22.3   22.6       NaN         False  \n",
       "2021-10-30 00:03:00   22.3   22.6       NaN         False  \n",
       "2021-10-30 00:04:00   22.3   22.6       NaN         False  \n",
       "2021-10-30 00:05:00   22.3   22.6       NaN         False  \n",
       "...                    ...    ...       ...           ...  \n",
       "2022-10-29 23:56:00   24.2   24.5       NaN         False  \n",
       "2022-10-29 23:57:00   24.2   24.5       NaN         False  \n",
       "2022-10-29 23:58:00   24.1   24.4       NaN         False  \n",
       "2022-10-29 23:59:00   24.1   24.4       NaN         False  \n",
       "2022-10-30 00:00:00   24.1   24.4       NaN         False  \n",
       "\n",
       "[525600 rows x 19 columns]>"
      ]
     },
     "execution_count": 11,
     "metadata": {},
     "output_type": "execute_result"
    }
   ],
   "execution_count": 11
  },
  {
   "metadata": {},
   "cell_type": "code",
   "outputs": [],
   "execution_count": null,
   "source": "",
   "id": "fe5c89d8b738f71f"
  },
  {
   "metadata": {},
   "cell_type": "markdown",
   "source": "### 10. save or export clean data",
   "id": "2641dab6d83b3dd7"
  },
  {
   "metadata": {
    "ExecuteTime": {
     "end_time": "2025-05-18T12:26:28.165677Z",
     "start_time": "2025-05-18T12:26:20.672876Z"
    }
   },
   "cell_type": "code",
   "source": "sierraleone_clean.to_csv('../data/clean/sierraleone_clean.csv', index=False)",
   "id": "f520031309f1e59c",
   "outputs": [],
   "execution_count": 12
  },
  {
   "metadata": {},
   "cell_type": "code",
   "outputs": [],
   "execution_count": null,
   "source": "",
   "id": "1e11e805e3e32fff"
  },
  {
   "metadata": {},
   "cell_type": "markdown",
   "source": "### 11. Time Series Analysis",
   "id": "8f8a31bd5633d55f"
  },
  {
   "metadata": {
    "jupyter": {
     "is_executing": true
    },
    "ExecuteTime": {
     "start_time": "2025-05-18T12:27:04.858210Z"
    }
   },
   "cell_type": "code",
   "source": [
    "flg, axs = plt.subplots(nrows=2, ncols=2, figsize=(12, 10))\n",
    "sierraleone_clean[['GHI']].plot(ax=axs[0,0], title=\"GHI over Time\")\n",
    "sierraleone_clean[['DNI']].plot(ax=axs[0,1], title=\"DNI over Time\")\n",
    "sierraleone_clean[['DHI']].plot(ax=axs[1,0], title=\"DHI over Time\")\n",
    "sierraleone_clean[['Tamb']].plot(ax=axs[1,1], title=\"Tamb over Time\")\n",
    "plt.tight_layout()"
   ],
   "id": "bd655926aae46976",
   "outputs": [],
   "execution_count": null
  },
  {
   "metadata": {},
   "cell_type": "code",
   "outputs": [],
   "execution_count": null,
   "source": "",
   "id": "c128a6955797f0d6"
  },
  {
   "metadata": {},
   "cell_type": "markdown",
   "source": "### 12 . cleaning effect",
   "id": "e3da2d7b304cd802"
  },
  {
   "metadata": {},
   "cell_type": "code",
   "outputs": [],
   "execution_count": null,
   "source": "sierraleone_df.groupby('CleaningFlag')[['ModA', 'ModB']].mean().plot(kind='bar', title=\"ModA & ModB: Clean vs Dirty\", figsize=(8,5))\n",
   "id": "aa4e4b071424f060"
  },
  {
   "metadata": {},
   "cell_type": "markdown",
   "source": "#### 13. Correlation Heatmap",
   "id": "c0a30c55e340d976"
  },
  {
   "metadata": {},
   "cell_type": "code",
   "outputs": [],
   "execution_count": null,
   "source": [
    "heat_cols = ['GHI', 'DNI', 'DHI', 'TModA', 'TModB']\n",
    "sns.heatmap(sierraleone_clean[heat_cols].corr(), annot=True, cmap='coolwarm')\n",
    "\n",
    "\n",
    "\n"
   ],
   "id": "ad2006d089b6f100"
  },
  {
   "metadata": {},
   "cell_type": "markdown",
   "source": "### 14. Scater plot",
   "id": "cb9e48c25ffc6af7"
  },
  {
   "metadata": {},
   "cell_type": "code",
   "outputs": [],
   "execution_count": null,
   "source": [
    "sns.scatterplot(data=sierraleone_clean, x='WS', y='GHI')\n",
    "sns.scatterplot(data=sierraleone_clean, x='WSgust', y='GHI')\n",
    "sns.scatterplot(data=sierraleone_clean, x='WD', y='GHI')\n",
    "sns.scatterplot(data=sierraleone_clean, x='RH', y='Tamb')\n",
    "sns.scatterplot(data=sierraleone_clean, x='RH', y='GHI')\n"
   ],
   "id": "6d337f10e0e86edf"
  },
  {
   "metadata": {},
   "cell_type": "markdown",
   "source": "#### 15. Wind & Temperature Analysis",
   "id": "5303456a10f7072b"
  },
  {
   "metadata": {},
   "cell_type": "code",
   "outputs": [],
   "execution_count": null,
   "source": [
    "# Simple radial histogram (if no wind rose lib available)\n",
    "sierraleone_clean['WD_bin'] = pd.cut(sierraleone_clean['WD'], bins=np.arange(0, 370, 30))\n",
    "wind_dist = sierraleone_clean.groupby('WD_bin', observed=True)['WS'].mean()\n",
    "\n",
    "\n",
    "wind_dist.plot(kind='bar', title='Average Wind Speed by Direction Bin')\n"
   ],
   "id": "d9b0ebdf85c8dece"
  },
  {
   "metadata": {},
   "cell_type": "markdown",
   "source": "Histograms for GHI and one other variable (e.g. WS).",
   "id": "2b37315222526c5"
  },
  {
   "metadata": {},
   "cell_type": "code",
   "outputs": [],
   "execution_count": null,
   "source": [
    "sierraleone_clean['GHI'].hist(bins=30, alpha=0.7)\n",
    "plt.title(\"Histogram of GHI\")\n",
    "\n",
    "sierraleone_clean['WS'].hist(bins=30, alpha =0.7)\n",
    "plt.title(\"Histogram of Wind Speed\")\n"
   ],
   "id": "381bc7ad73b6d200"
  },
  {
   "metadata": {},
   "cell_type": "code",
   "outputs": [],
   "execution_count": null,
   "source": [
    "sns.lmplot(data=sierraleone_clean, x='RH', y='Tamb', height=5, aspect=1.5)\n",
    "sns.lmplot(data=sierraleone_clean, x='RH', y='GHI', height=5, aspect=1.5)\n"
   ],
   "id": "763ad55b427deeef"
  },
  {
   "metadata": {},
   "cell_type": "markdown",
   "source": "Bubble chart",
   "id": "cbd40b3fa8578946"
  },
  {
   "metadata": {},
   "cell_type": "code",
   "outputs": [],
   "execution_count": null,
   "source": "",
   "id": "b56f3f06e83d0f54"
  },
  {
   "metadata": {},
   "cell_type": "code",
   "outputs": [],
   "execution_count": null,
   "source": [
    "plt.figure(figsize=(10,6))\n",
    "plt.scatter(sierraleone_clean['GHI'], sierraleone_clean['Tamb'], s=sierraleone_clean['RH'], alpha=0.5, label=\"RH as Bubble Size\")\n",
    "plt.xlabel(\"GHI\")\n",
    "plt.ylabel(\"Tamb\")\n",
    "plt.title(\"GHI vs Tamb with RH as Bubble Size\")\n"
   ],
   "id": "6db8d06f37548bae"
  }
 ],
 "metadata": {
  "kernelspec": {
   "display_name": "Python [conda env:base] *",
   "language": "python",
   "name": "conda-base-py"
  },
  "language_info": {
   "codemirror_mode": {
    "name": "ipython",
    "version": 2
   },
   "file_extension": ".py",
   "mimetype": "text/x-python",
   "name": "python",
   "nbconvert_exporter": "python",
   "pygments_lexer": "ipython2",
   "version": "2.7.6"
  }
 },
 "nbformat": 4,
 "nbformat_minor": 5
}
